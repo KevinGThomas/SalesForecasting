{
 "cells": [
  {
   "cell_type": "markdown",
   "metadata": {},
   "source": [
    "# MeVsMarket\n",
    "\n",
    "## 1. Read data from MySQL\n",
    "### 1.1. Import important packages"
   ]
  },
  {
   "cell_type": "code",
   "execution_count": 1,
   "metadata": {},
   "outputs": [],
   "source": [
    "import pymysql\n",
    "import pandas as pd\n",
    "import decimal"
   ]
  },
  {
   "cell_type": "markdown",
   "metadata": {},
   "source": [
    "### 1.2. Connect to MySQL database reconai"
   ]
  },
  {
   "cell_type": "code",
   "execution_count": 2,
   "metadata": {},
   "outputs": [
    {
     "name": "stdout",
     "output_type": "stream",
     "text": [
      "<pymysql.connections.Connection object at 0x00000219F1B6FEB8>\n"
     ]
    }
   ],
   "source": [
    "mydb = pymysql.connect(host='localhost',\n",
    "                             user='root',\n",
    "                             password='peacebro',database='reconai')\n",
    "print(mydb)"
   ]
  },
  {
   "cell_type": "markdown",
   "metadata": {},
   "source": [
    "### 1.3. Read data from database"
   ]
  },
  {
   "cell_type": "code",
   "execution_count": 3,
   "metadata": {},
   "outputs": [],
   "source": [
    "sql_plantoactual='SELECT * FROM `plantoactual`;'\n",
    "sql_marketplantoactual='SELECT * FROM `marketplantoactual`'"
   ]
  },
  {
   "cell_type": "code",
   "execution_count": 4,
   "metadata": {},
   "outputs": [
    {
     "data": {
      "text/html": [
       "<div>\n",
       "<style scoped>\n",
       "    .dataframe tbody tr th:only-of-type {\n",
       "        vertical-align: middle;\n",
       "    }\n",
       "\n",
       "    .dataframe tbody tr th {\n",
       "        vertical-align: top;\n",
       "    }\n",
       "\n",
       "    .dataframe thead th {\n",
       "        text-align: right;\n",
       "    }\n",
       "</style>\n",
       "<table border=\"1\" class=\"dataframe\">\n",
       "  <thead>\n",
       "    <tr style=\"text-align: right;\">\n",
       "      <th></th>\n",
       "      <th>CPG Region</th>\n",
       "      <th>Retailer</th>\n",
       "      <th>Year</th>\n",
       "      <th>Week</th>\n",
       "      <th>Category</th>\n",
       "      <th>Brand</th>\n",
       "      <th>UPC</th>\n",
       "      <th>Plan numbers</th>\n",
       "      <th>Actual numbers</th>\n",
       "    </tr>\n",
       "  </thead>\n",
       "  <tbody>\n",
       "    <tr>\n",
       "      <th>0</th>\n",
       "      <td>North</td>\n",
       "      <td>SuperMart</td>\n",
       "      <td>2017</td>\n",
       "      <td>1</td>\n",
       "      <td>Widgets</td>\n",
       "      <td>A</td>\n",
       "      <td>1234567890</td>\n",
       "      <td>5,78,000.00</td>\n",
       "      <td>5,83,780.00</td>\n",
       "    </tr>\n",
       "    <tr>\n",
       "      <th>1</th>\n",
       "      <td>East</td>\n",
       "      <td>SuperMart</td>\n",
       "      <td>2017</td>\n",
       "      <td>1</td>\n",
       "      <td>Widgets</td>\n",
       "      <td>A</td>\n",
       "      <td>1234567890</td>\n",
       "      <td>6,53,000.00</td>\n",
       "      <td>6,59,530.00</td>\n",
       "    </tr>\n",
       "    <tr>\n",
       "      <th>2</th>\n",
       "      <td>South</td>\n",
       "      <td>SuperMart</td>\n",
       "      <td>2017</td>\n",
       "      <td>1</td>\n",
       "      <td>Widgets</td>\n",
       "      <td>A</td>\n",
       "      <td>1234567890</td>\n",
       "      <td>8,04,900.00</td>\n",
       "      <td>8,12,949.00</td>\n",
       "    </tr>\n",
       "    <tr>\n",
       "      <th>3</th>\n",
       "      <td>West</td>\n",
       "      <td>SuperMart</td>\n",
       "      <td>2017</td>\n",
       "      <td>1</td>\n",
       "      <td>Widgets</td>\n",
       "      <td>A</td>\n",
       "      <td>1234567890</td>\n",
       "      <td>6,57,800.00</td>\n",
       "      <td>6,64,378.00</td>\n",
       "    </tr>\n",
       "    <tr>\n",
       "      <th>4</th>\n",
       "      <td>North</td>\n",
       "      <td>BigCo</td>\n",
       "      <td>2017</td>\n",
       "      <td>1</td>\n",
       "      <td>Widgets</td>\n",
       "      <td>A</td>\n",
       "      <td>1234567890</td>\n",
       "      <td>1,98,400.00</td>\n",
       "      <td>2,00,384.00</td>\n",
       "    </tr>\n",
       "  </tbody>\n",
       "</table>\n",
       "</div>"
      ],
      "text/plain": [
       "  CPG Region   Retailer  Year  Week Category Brand         UPC Plan numbers  \\\n",
       "0      North  SuperMart  2017     1  Widgets     A  1234567890  5,78,000.00   \n",
       "1       East  SuperMart  2017     1  Widgets     A  1234567890  6,53,000.00   \n",
       "2      South  SuperMart  2017     1  Widgets     A  1234567890  8,04,900.00   \n",
       "3       West  SuperMart  2017     1  Widgets     A  1234567890  6,57,800.00   \n",
       "4      North      BigCo  2017     1  Widgets     A  1234567890  1,98,400.00   \n",
       "\n",
       "  Actual numbers  \n",
       "0    5,83,780.00  \n",
       "1    6,59,530.00  \n",
       "2    8,12,949.00  \n",
       "3    6,64,378.00  \n",
       "4    2,00,384.00  "
      ]
     },
     "execution_count": 4,
     "metadata": {},
     "output_type": "execute_result"
    }
   ],
   "source": [
    "df_me_trial = pd.read_sql(sql_plantoactual, mydb)\n",
    "df_me_trial.head()"
   ]
  },
  {
   "cell_type": "code",
   "execution_count": 5,
   "metadata": {},
   "outputs": [
    {
     "data": {
      "text/html": [
       "<div>\n",
       "<style scoped>\n",
       "    .dataframe tbody tr th:only-of-type {\n",
       "        vertical-align: middle;\n",
       "    }\n",
       "\n",
       "    .dataframe tbody tr th {\n",
       "        vertical-align: top;\n",
       "    }\n",
       "\n",
       "    .dataframe thead th {\n",
       "        text-align: right;\n",
       "    }\n",
       "</style>\n",
       "<table border=\"1\" class=\"dataframe\">\n",
       "  <thead>\n",
       "    <tr style=\"text-align: right;\">\n",
       "      <th></th>\n",
       "      <th>CPG Region</th>\n",
       "      <th>Retailer</th>\n",
       "      <th>Year</th>\n",
       "      <th>Week</th>\n",
       "      <th>Category</th>\n",
       "      <th>Plan numbers</th>\n",
       "      <th>Actual numbers</th>\n",
       "    </tr>\n",
       "  </thead>\n",
       "  <tbody>\n",
       "    <tr>\n",
       "      <th>0</th>\n",
       "      <td>North</td>\n",
       "      <td>SuperMart</td>\n",
       "      <td>2017</td>\n",
       "      <td>1</td>\n",
       "      <td>Widgets</td>\n",
       "      <td>10,22,500.00</td>\n",
       "      <td>10,00,000.00</td>\n",
       "    </tr>\n",
       "    <tr>\n",
       "      <th>1</th>\n",
       "      <td>East</td>\n",
       "      <td>SuperMart</td>\n",
       "      <td>2017</td>\n",
       "      <td>1</td>\n",
       "      <td>Widgets</td>\n",
       "      <td>44,11,650.00</td>\n",
       "      <td>45,00,000.00</td>\n",
       "    </tr>\n",
       "    <tr>\n",
       "      <th>2</th>\n",
       "      <td>South</td>\n",
       "      <td>SuperMart</td>\n",
       "      <td>2017</td>\n",
       "      <td>1</td>\n",
       "      <td>Widgets</td>\n",
       "      <td>49,12,716.00</td>\n",
       "      <td>49,20,000.00</td>\n",
       "    </tr>\n",
       "    <tr>\n",
       "      <th>3</th>\n",
       "      <td>West</td>\n",
       "      <td>SuperMart</td>\n",
       "      <td>2017</td>\n",
       "      <td>1</td>\n",
       "      <td>Widgets</td>\n",
       "      <td>73,51,370.00</td>\n",
       "      <td>71,50,000.00</td>\n",
       "    </tr>\n",
       "    <tr>\n",
       "      <th>4</th>\n",
       "      <td>North</td>\n",
       "      <td>BigCo</td>\n",
       "      <td>2017</td>\n",
       "      <td>1</td>\n",
       "      <td>Widgets</td>\n",
       "      <td>79,66,500.00</td>\n",
       "      <td>81,50,000.00</td>\n",
       "    </tr>\n",
       "  </tbody>\n",
       "</table>\n",
       "</div>"
      ],
      "text/plain": [
       "  CPG Region   Retailer  Year  Week Category  Plan numbers Actual numbers\n",
       "0      North  SuperMart  2017     1  Widgets  10,22,500.00   10,00,000.00\n",
       "1       East  SuperMart  2017     1  Widgets  44,11,650.00   45,00,000.00\n",
       "2      South  SuperMart  2017     1  Widgets  49,12,716.00   49,20,000.00\n",
       "3       West  SuperMart  2017     1  Widgets  73,51,370.00   71,50,000.00\n",
       "4      North      BigCo  2017     1  Widgets  79,66,500.00   81,50,000.00"
      ]
     },
     "execution_count": 5,
     "metadata": {},
     "output_type": "execute_result"
    }
   ],
   "source": [
    "df_market=pd.read_sql(sql_marketplantoactual, mydb)\n",
    "df_market.head()"
   ]
  },
  {
   "cell_type": "markdown",
   "metadata": {},
   "source": [
    "## 2. Editing Dataframe for merge\n",
    "### 2.1. Convert 'Plan numbers' and 'Actual numbers' column to float type"
   ]
  },
  {
   "cell_type": "code",
   "execution_count": 6,
   "metadata": {},
   "outputs": [],
   "source": [
    "def sales_product(df):\n",
    "    #df['date'] = pd.to_datetime(df.assign(day=1, month=1)[['Year', 'month', 'day']])+pd.to_timedelta(df.Week*7, unit='days')\n",
    "    df['Plan numbers'] = df['Plan numbers'].str.replace(',', '')\n",
    "    df['Plan numbers'] = df['Plan numbers'].astype(float)\n",
    "    df['Actual numbers'] = df['Actual numbers'].str.replace(',', '')\n",
    "    df['Actual numbers'] = df['Actual numbers'].astype(float)\n",
    "sales_product(df_me_trial)"
   ]
  },
  {
   "cell_type": "markdown",
   "metadata": {},
   "source": [
    "### 2.2. Summing UPC product rows together"
   ]
  },
  {
   "cell_type": "code",
   "execution_count": 7,
   "metadata": {},
   "outputs": [],
   "source": [
    "def merge_upc(df):\n",
    "    for numbers in ['Plan numbers','Actual numbers']:\n",
    "        for year in [2017,2018]:\n",
    "            for week in range(1,53):\n",
    "                for ret in ['SuperMart','BigCo','Rx']:\n",
    "                    for reg in ['North','East','South','West']:\n",
    "                        ex=df[(df['Retailer']==ret) & (df['CPG Region']==reg) & \n",
    "                        (df['Year']==year) & (df['Week']==week)].sum()\n",
    "                        ex[numbers]=round(ex[numbers], 2)\n",
    "                        df.loc[(df['Retailer']==ret) & (df['CPG Region']==reg) & \n",
    "                    (df['Year']==year) & (df['Week']==week) & \n",
    "                    (df['Category']=='Widgets'),\n",
    "                    numbers] = ex[numbers]\n",
    "    return df\n",
    "df_me_trial=merge_upc(df_me_trial)\n",
    "df_me_trial.drop_duplicates(subset =[\"CPG Region\",\"Retailer\",\"Year\",\"Week\"], \n",
    "                     keep = \"first\", inplace = True)"
   ]
  },
  {
   "cell_type": "code",
   "execution_count": 8,
   "metadata": {},
   "outputs": [
    {
     "data": {
      "text/html": [
       "<div>\n",
       "<style scoped>\n",
       "    .dataframe tbody tr th:only-of-type {\n",
       "        vertical-align: middle;\n",
       "    }\n",
       "\n",
       "    .dataframe tbody tr th {\n",
       "        vertical-align: top;\n",
       "    }\n",
       "\n",
       "    .dataframe thead th {\n",
       "        text-align: right;\n",
       "    }\n",
       "</style>\n",
       "<table border=\"1\" class=\"dataframe\">\n",
       "  <thead>\n",
       "    <tr style=\"text-align: right;\">\n",
       "      <th></th>\n",
       "      <th>CPG Region</th>\n",
       "      <th>Retailer</th>\n",
       "      <th>Year</th>\n",
       "      <th>Week</th>\n",
       "      <th>Category</th>\n",
       "      <th>Brand</th>\n",
       "      <th>UPC</th>\n",
       "      <th>Plan numbers</th>\n",
       "      <th>Actual numbers</th>\n",
       "    </tr>\n",
       "  </thead>\n",
       "  <tbody>\n",
       "    <tr>\n",
       "      <th>0</th>\n",
       "      <td>North</td>\n",
       "      <td>SuperMart</td>\n",
       "      <td>2017</td>\n",
       "      <td>1</td>\n",
       "      <td>Widgets</td>\n",
       "      <td>A</td>\n",
       "      <td>1234567890</td>\n",
       "      <td>707800.0</td>\n",
       "      <td>714878.0</td>\n",
       "    </tr>\n",
       "    <tr>\n",
       "      <th>1</th>\n",
       "      <td>East</td>\n",
       "      <td>SuperMart</td>\n",
       "      <td>2017</td>\n",
       "      <td>1</td>\n",
       "      <td>Widgets</td>\n",
       "      <td>A</td>\n",
       "      <td>1234567890</td>\n",
       "      <td>887100.0</td>\n",
       "      <td>895971.0</td>\n",
       "    </tr>\n",
       "    <tr>\n",
       "      <th>2</th>\n",
       "      <td>South</td>\n",
       "      <td>SuperMart</td>\n",
       "      <td>2017</td>\n",
       "      <td>1</td>\n",
       "      <td>Widgets</td>\n",
       "      <td>A</td>\n",
       "      <td>1234567890</td>\n",
       "      <td>2414700.0</td>\n",
       "      <td>2438847.0</td>\n",
       "    </tr>\n",
       "    <tr>\n",
       "      <th>3</th>\n",
       "      <td>West</td>\n",
       "      <td>SuperMart</td>\n",
       "      <td>2017</td>\n",
       "      <td>1</td>\n",
       "      <td>Widgets</td>\n",
       "      <td>A</td>\n",
       "      <td>1234567890</td>\n",
       "      <td>1292000.0</td>\n",
       "      <td>1304920.0</td>\n",
       "    </tr>\n",
       "    <tr>\n",
       "      <th>4</th>\n",
       "      <td>North</td>\n",
       "      <td>BigCo</td>\n",
       "      <td>2017</td>\n",
       "      <td>1</td>\n",
       "      <td>Widgets</td>\n",
       "      <td>A</td>\n",
       "      <td>1234567890</td>\n",
       "      <td>295500.0</td>\n",
       "      <td>298455.0</td>\n",
       "    </tr>\n",
       "  </tbody>\n",
       "</table>\n",
       "</div>"
      ],
      "text/plain": [
       "  CPG Region   Retailer  Year  Week Category Brand         UPC  Plan numbers  \\\n",
       "0      North  SuperMart  2017     1  Widgets     A  1234567890      707800.0   \n",
       "1       East  SuperMart  2017     1  Widgets     A  1234567890      887100.0   \n",
       "2      South  SuperMart  2017     1  Widgets     A  1234567890     2414700.0   \n",
       "3       West  SuperMart  2017     1  Widgets     A  1234567890     1292000.0   \n",
       "4      North      BigCo  2017     1  Widgets     A  1234567890      295500.0   \n",
       "\n",
       "   Actual numbers  \n",
       "0        714878.0  \n",
       "1        895971.0  \n",
       "2       2438847.0  \n",
       "3       1304920.0  \n",
       "4        298455.0  "
      ]
     },
     "execution_count": 8,
     "metadata": {},
     "output_type": "execute_result"
    }
   ],
   "source": [
    "df_me_trial.head()"
   ]
  },
  {
   "cell_type": "markdown",
   "metadata": {},
   "source": [
    "## 2. Merge dataframes\n",
    "### 2.1. Rename 'Plan numbers' and 'Actual numbers' column in market dataframe"
   ]
  },
  {
   "cell_type": "code",
   "execution_count": 9,
   "metadata": {},
   "outputs": [
    {
     "data": {
      "text/html": [
       "<div>\n",
       "<style scoped>\n",
       "    .dataframe tbody tr th:only-of-type {\n",
       "        vertical-align: middle;\n",
       "    }\n",
       "\n",
       "    .dataframe tbody tr th {\n",
       "        vertical-align: top;\n",
       "    }\n",
       "\n",
       "    .dataframe thead th {\n",
       "        text-align: right;\n",
       "    }\n",
       "</style>\n",
       "<table border=\"1\" class=\"dataframe\">\n",
       "  <thead>\n",
       "    <tr style=\"text-align: right;\">\n",
       "      <th></th>\n",
       "      <th>CPG Region</th>\n",
       "      <th>Retailer</th>\n",
       "      <th>Year</th>\n",
       "      <th>Week</th>\n",
       "      <th>Category</th>\n",
       "      <th>Market Plan numbers</th>\n",
       "      <th>Market Actual numbers</th>\n",
       "    </tr>\n",
       "  </thead>\n",
       "  <tbody>\n",
       "    <tr>\n",
       "      <th>0</th>\n",
       "      <td>North</td>\n",
       "      <td>SuperMart</td>\n",
       "      <td>2017</td>\n",
       "      <td>1</td>\n",
       "      <td>Widgets</td>\n",
       "      <td>10,22,500.00</td>\n",
       "      <td>10,00,000.00</td>\n",
       "    </tr>\n",
       "    <tr>\n",
       "      <th>1</th>\n",
       "      <td>East</td>\n",
       "      <td>SuperMart</td>\n",
       "      <td>2017</td>\n",
       "      <td>1</td>\n",
       "      <td>Widgets</td>\n",
       "      <td>44,11,650.00</td>\n",
       "      <td>45,00,000.00</td>\n",
       "    </tr>\n",
       "    <tr>\n",
       "      <th>2</th>\n",
       "      <td>South</td>\n",
       "      <td>SuperMart</td>\n",
       "      <td>2017</td>\n",
       "      <td>1</td>\n",
       "      <td>Widgets</td>\n",
       "      <td>49,12,716.00</td>\n",
       "      <td>49,20,000.00</td>\n",
       "    </tr>\n",
       "    <tr>\n",
       "      <th>3</th>\n",
       "      <td>West</td>\n",
       "      <td>SuperMart</td>\n",
       "      <td>2017</td>\n",
       "      <td>1</td>\n",
       "      <td>Widgets</td>\n",
       "      <td>73,51,370.00</td>\n",
       "      <td>71,50,000.00</td>\n",
       "    </tr>\n",
       "    <tr>\n",
       "      <th>4</th>\n",
       "      <td>North</td>\n",
       "      <td>BigCo</td>\n",
       "      <td>2017</td>\n",
       "      <td>1</td>\n",
       "      <td>Widgets</td>\n",
       "      <td>79,66,500.00</td>\n",
       "      <td>81,50,000.00</td>\n",
       "    </tr>\n",
       "  </tbody>\n",
       "</table>\n",
       "</div>"
      ],
      "text/plain": [
       "  CPG Region   Retailer  Year  Week Category Market Plan numbers  \\\n",
       "0      North  SuperMart  2017     1  Widgets        10,22,500.00   \n",
       "1       East  SuperMart  2017     1  Widgets        44,11,650.00   \n",
       "2      South  SuperMart  2017     1  Widgets        49,12,716.00   \n",
       "3       West  SuperMart  2017     1  Widgets        73,51,370.00   \n",
       "4      North      BigCo  2017     1  Widgets        79,66,500.00   \n",
       "\n",
       "  Market Actual numbers  \n",
       "0          10,00,000.00  \n",
       "1          45,00,000.00  \n",
       "2          49,20,000.00  \n",
       "3          71,50,000.00  \n",
       "4          81,50,000.00  "
      ]
     },
     "execution_count": 9,
     "metadata": {},
     "output_type": "execute_result"
    }
   ],
   "source": [
    "df_market=df_market.rename(columns={'Plan numbers': 'Market Plan numbers'})\n",
    "df_market=df_market.rename(columns={'Actual numbers': 'Market Actual numbers'})\n",
    "df_market.head()"
   ]
  },
  {
   "cell_type": "markdown",
   "metadata": {},
   "source": [
    "### 2.2. Drop Brand and UPC columns in Retailer dataframe"
   ]
  },
  {
   "cell_type": "code",
   "execution_count": 10,
   "metadata": {},
   "outputs": [],
   "source": [
    "df_me=pd.DataFrame(df_me_trial)\n",
    "df_me=df_me.drop(['Brand','UPC'],axis=1)"
   ]
  },
  {
   "cell_type": "markdown",
   "metadata": {},
   "source": [
    "### 2.3. Reset index of dataframe"
   ]
  },
  {
   "cell_type": "code",
   "execution_count": 11,
   "metadata": {},
   "outputs": [
    {
     "data": {
      "text/html": [
       "<div>\n",
       "<style scoped>\n",
       "    .dataframe tbody tr th:only-of-type {\n",
       "        vertical-align: middle;\n",
       "    }\n",
       "\n",
       "    .dataframe tbody tr th {\n",
       "        vertical-align: top;\n",
       "    }\n",
       "\n",
       "    .dataframe thead th {\n",
       "        text-align: right;\n",
       "    }\n",
       "</style>\n",
       "<table border=\"1\" class=\"dataframe\">\n",
       "  <thead>\n",
       "    <tr style=\"text-align: right;\">\n",
       "      <th></th>\n",
       "      <th>CPG Region</th>\n",
       "      <th>Retailer</th>\n",
       "      <th>Year</th>\n",
       "      <th>Week</th>\n",
       "      <th>Category</th>\n",
       "      <th>Plan numbers</th>\n",
       "      <th>Actual numbers</th>\n",
       "    </tr>\n",
       "  </thead>\n",
       "  <tbody>\n",
       "    <tr>\n",
       "      <th>0</th>\n",
       "      <td>North</td>\n",
       "      <td>SuperMart</td>\n",
       "      <td>2017</td>\n",
       "      <td>1</td>\n",
       "      <td>Widgets</td>\n",
       "      <td>707800.0</td>\n",
       "      <td>714878.0</td>\n",
       "    </tr>\n",
       "    <tr>\n",
       "      <th>1</th>\n",
       "      <td>East</td>\n",
       "      <td>SuperMart</td>\n",
       "      <td>2017</td>\n",
       "      <td>1</td>\n",
       "      <td>Widgets</td>\n",
       "      <td>887100.0</td>\n",
       "      <td>895971.0</td>\n",
       "    </tr>\n",
       "    <tr>\n",
       "      <th>2</th>\n",
       "      <td>South</td>\n",
       "      <td>SuperMart</td>\n",
       "      <td>2017</td>\n",
       "      <td>1</td>\n",
       "      <td>Widgets</td>\n",
       "      <td>2414700.0</td>\n",
       "      <td>2438847.0</td>\n",
       "    </tr>\n",
       "    <tr>\n",
       "      <th>3</th>\n",
       "      <td>West</td>\n",
       "      <td>SuperMart</td>\n",
       "      <td>2017</td>\n",
       "      <td>1</td>\n",
       "      <td>Widgets</td>\n",
       "      <td>1292000.0</td>\n",
       "      <td>1304920.0</td>\n",
       "    </tr>\n",
       "    <tr>\n",
       "      <th>4</th>\n",
       "      <td>North</td>\n",
       "      <td>BigCo</td>\n",
       "      <td>2017</td>\n",
       "      <td>1</td>\n",
       "      <td>Widgets</td>\n",
       "      <td>295500.0</td>\n",
       "      <td>298455.0</td>\n",
       "    </tr>\n",
       "  </tbody>\n",
       "</table>\n",
       "</div>"
      ],
      "text/plain": [
       "  CPG Region   Retailer  Year  Week Category  Plan numbers  Actual numbers\n",
       "0      North  SuperMart  2017     1  Widgets      707800.0        714878.0\n",
       "1       East  SuperMart  2017     1  Widgets      887100.0        895971.0\n",
       "2      South  SuperMart  2017     1  Widgets     2414700.0       2438847.0\n",
       "3       West  SuperMart  2017     1  Widgets     1292000.0       1304920.0\n",
       "4      North      BigCo  2017     1  Widgets      295500.0        298455.0"
      ]
     },
     "execution_count": 11,
     "metadata": {},
     "output_type": "execute_result"
    }
   ],
   "source": [
    "df_me=df_me.reset_index(drop=True)\n",
    "df_me.head()"
   ]
  },
  {
   "cell_type": "markdown",
   "metadata": {},
   "source": [
    "### 3.3. Sales conversion\n",
    "#### 3.3.1. Function to convert value to indian currency"
   ]
  },
  {
   "cell_type": "code",
   "execution_count": 12,
   "metadata": {},
   "outputs": [],
   "source": [
    "def currency_in_indian_format(n):\n",
    "    \"\"\" Convert a number (int / float) into indian formatting style \"\"\"\n",
    "    d = decimal.Decimal(str(n))\n",
    "\n",
    "    if d.as_tuple().exponent < -2:\n",
    "        s = str(n)\n",
    "    else:\n",
    "        s = '{0:.2f}'.format(n)\n",
    "\n",
    "    l = len(s)\n",
    "    i = l - 1\n",
    "\n",
    "    res, flag, k = '', 0, 0\n",
    "    while i >= 0:\n",
    "        if flag == 0:\n",
    "            res += s[i]\n",
    "            if s[i] == '.':\n",
    "                flag = 1\n",
    "        elif flag == 1:\n",
    "            k += 1\n",
    "            res += s[i]\n",
    "            if k == 3 and i - 1 >= 0:\n",
    "                res += ','\n",
    "                flag = 2\n",
    "                k = 0\n",
    "        else:\n",
    "            k += 1\n",
    "            res += s[i]\n",
    "            if k == 2 and i - 1 >= 0:\n",
    "                res += ','\n",
    "                flag = 2\n",
    "                k = 0\n",
    "        i -= 1\n",
    "\n",
    "    return res[::-1]"
   ]
  },
  {
   "cell_type": "markdown",
   "metadata": {},
   "source": [
    "#### 3.3.2. Converting Plan numbers column to indian currency"
   ]
  },
  {
   "cell_type": "code",
   "execution_count": 13,
   "metadata": {},
   "outputs": [
    {
     "name": "stderr",
     "output_type": "stream",
     "text": [
      "D:\\Anaconda\\lib\\site-packages\\ipykernel_launcher.py:4: SettingWithCopyWarning: \n",
      "A value is trying to be set on a copy of a slice from a DataFrame\n",
      "\n",
      "See the caveats in the documentation: http://pandas.pydata.org/pandas-docs/stable/indexing.html#indexing-view-versus-copy\n",
      "  after removing the cwd from sys.path.\n",
      "D:\\Anaconda\\lib\\site-packages\\pandas\\core\\indexing.py:189: SettingWithCopyWarning: \n",
      "A value is trying to be set on a copy of a slice from a DataFrame\n",
      "\n",
      "See the caveats in the documentation: http://pandas.pydata.org/pandas-docs/stable/indexing.html#indexing-view-versus-copy\n",
      "  self._setitem_with_indexer(indexer, value)\n"
     ]
    }
   ],
   "source": [
    "for i in range (0,len(df_me.index)):\n",
    "    a=df_me['Plan numbers'][i]\n",
    "    b=currency_in_indian_format(a)\n",
    "    df_me['Plan numbers'][i]=b"
   ]
  },
  {
   "cell_type": "markdown",
   "metadata": {},
   "source": [
    "#### 3.3.3. Converting Actual numbers column to indian currency"
   ]
  },
  {
   "cell_type": "code",
   "execution_count": 14,
   "metadata": {},
   "outputs": [
    {
     "name": "stderr",
     "output_type": "stream",
     "text": [
      "D:\\Anaconda\\lib\\site-packages\\ipykernel_launcher.py:4: SettingWithCopyWarning: \n",
      "A value is trying to be set on a copy of a slice from a DataFrame\n",
      "\n",
      "See the caveats in the documentation: http://pandas.pydata.org/pandas-docs/stable/indexing.html#indexing-view-versus-copy\n",
      "  after removing the cwd from sys.path.\n",
      "D:\\Anaconda\\lib\\site-packages\\pandas\\core\\indexing.py:189: SettingWithCopyWarning: \n",
      "A value is trying to be set on a copy of a slice from a DataFrame\n",
      "\n",
      "See the caveats in the documentation: http://pandas.pydata.org/pandas-docs/stable/indexing.html#indexing-view-versus-copy\n",
      "  self._setitem_with_indexer(indexer, value)\n"
     ]
    }
   ],
   "source": [
    "for i in range (0,len(df_me.index)):\n",
    "    a=df_me['Actual numbers'][i]\n",
    "    b=currency_in_indian_format(a)\n",
    "    df_me['Actual numbers'][i]=b"
   ]
  },
  {
   "cell_type": "markdown",
   "metadata": {},
   "source": [
    "### 3.4. Merge both dataframes"
   ]
  },
  {
   "cell_type": "code",
   "execution_count": 15,
   "metadata": {},
   "outputs": [
    {
     "data": {
      "text/html": [
       "<div>\n",
       "<style scoped>\n",
       "    .dataframe tbody tr th:only-of-type {\n",
       "        vertical-align: middle;\n",
       "    }\n",
       "\n",
       "    .dataframe tbody tr th {\n",
       "        vertical-align: top;\n",
       "    }\n",
       "\n",
       "    .dataframe thead th {\n",
       "        text-align: right;\n",
       "    }\n",
       "</style>\n",
       "<table border=\"1\" class=\"dataframe\">\n",
       "  <thead>\n",
       "    <tr style=\"text-align: right;\">\n",
       "      <th></th>\n",
       "      <th>CPG Region</th>\n",
       "      <th>Retailer</th>\n",
       "      <th>Year</th>\n",
       "      <th>Week</th>\n",
       "      <th>Category</th>\n",
       "      <th>Plan numbers</th>\n",
       "      <th>Actual numbers</th>\n",
       "      <th>Market Plan numbers</th>\n",
       "      <th>Market Actual numbers</th>\n",
       "    </tr>\n",
       "  </thead>\n",
       "  <tbody>\n",
       "    <tr>\n",
       "      <th>0</th>\n",
       "      <td>North</td>\n",
       "      <td>SuperMart</td>\n",
       "      <td>2017</td>\n",
       "      <td>1</td>\n",
       "      <td>Widgets</td>\n",
       "      <td>7,07,800.00</td>\n",
       "      <td>7,14,878.00</td>\n",
       "      <td>10,22,500.00</td>\n",
       "      <td>10,00,000.00</td>\n",
       "    </tr>\n",
       "    <tr>\n",
       "      <th>1</th>\n",
       "      <td>East</td>\n",
       "      <td>SuperMart</td>\n",
       "      <td>2017</td>\n",
       "      <td>1</td>\n",
       "      <td>Widgets</td>\n",
       "      <td>8,87,100.00</td>\n",
       "      <td>8,95,971.00</td>\n",
       "      <td>44,11,650.00</td>\n",
       "      <td>45,00,000.00</td>\n",
       "    </tr>\n",
       "    <tr>\n",
       "      <th>2</th>\n",
       "      <td>South</td>\n",
       "      <td>SuperMart</td>\n",
       "      <td>2017</td>\n",
       "      <td>1</td>\n",
       "      <td>Widgets</td>\n",
       "      <td>24,14,700.00</td>\n",
       "      <td>24,38,847.00</td>\n",
       "      <td>49,12,716.00</td>\n",
       "      <td>49,20,000.00</td>\n",
       "    </tr>\n",
       "    <tr>\n",
       "      <th>3</th>\n",
       "      <td>West</td>\n",
       "      <td>SuperMart</td>\n",
       "      <td>2017</td>\n",
       "      <td>1</td>\n",
       "      <td>Widgets</td>\n",
       "      <td>12,92,000.00</td>\n",
       "      <td>13,04,920.00</td>\n",
       "      <td>73,51,370.00</td>\n",
       "      <td>71,50,000.00</td>\n",
       "    </tr>\n",
       "    <tr>\n",
       "      <th>4</th>\n",
       "      <td>North</td>\n",
       "      <td>BigCo</td>\n",
       "      <td>2017</td>\n",
       "      <td>1</td>\n",
       "      <td>Widgets</td>\n",
       "      <td>2,95,500.00</td>\n",
       "      <td>2,98,455.00</td>\n",
       "      <td>79,66,500.00</td>\n",
       "      <td>81,50,000.00</td>\n",
       "    </tr>\n",
       "  </tbody>\n",
       "</table>\n",
       "</div>"
      ],
      "text/plain": [
       "  CPG Region   Retailer  Year  Week Category  Plan numbers Actual numbers  \\\n",
       "0      North  SuperMart  2017     1  Widgets   7,07,800.00    7,14,878.00   \n",
       "1       East  SuperMart  2017     1  Widgets   8,87,100.00    8,95,971.00   \n",
       "2      South  SuperMart  2017     1  Widgets  24,14,700.00   24,38,847.00   \n",
       "3       West  SuperMart  2017     1  Widgets  12,92,000.00   13,04,920.00   \n",
       "4      North      BigCo  2017     1  Widgets   2,95,500.00    2,98,455.00   \n",
       "\n",
       "  Market Plan numbers Market Actual numbers  \n",
       "0        10,22,500.00          10,00,000.00  \n",
       "1        44,11,650.00          45,00,000.00  \n",
       "2        49,12,716.00          49,20,000.00  \n",
       "3        73,51,370.00          71,50,000.00  \n",
       "4        79,66,500.00          81,50,000.00  "
      ]
     },
     "execution_count": 15,
     "metadata": {},
     "output_type": "execute_result"
    }
   ],
   "source": [
    "df_mevsmarket=pd.merge(df_me, df_market, on=(\"CPG Region\",\"Year\",\"Week\",\n",
    "                                                   \"Category\",\"Retailer\"))\n",
    "df_mevsmarket.head()"
   ]
  },
  {
   "cell_type": "markdown",
   "metadata": {},
   "source": [
    "## 4. Export as csv"
   ]
  },
  {
   "cell_type": "code",
   "execution_count": 16,
   "metadata": {},
   "outputs": [],
   "source": [
    "df_mevsmarket.to_csv(\"mevsmarket.csv\",index = False)"
   ]
  },
  {
   "cell_type": "code",
   "execution_count": null,
   "metadata": {},
   "outputs": [],
   "source": []
  }
 ],
 "metadata": {
  "kernelspec": {
   "display_name": "Python 3",
   "language": "python",
   "name": "python3"
  },
  "language_info": {
   "codemirror_mode": {
    "name": "ipython",
    "version": 3
   },
   "file_extension": ".py",
   "mimetype": "text/x-python",
   "name": "python",
   "nbconvert_exporter": "python",
   "pygments_lexer": "ipython3",
   "version": "3.6.5"
  }
 },
 "nbformat": 4,
 "nbformat_minor": 2
}

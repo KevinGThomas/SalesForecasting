{
 "cells": [
  {
   "cell_type": "markdown",
   "metadata": {},
   "source": [
    "# Visualize PlanVsActual\n",
    "\n",
    "## 1. Read data from MySQL\n",
    "### 1.1. Import important packages"
   ]
  },
  {
   "cell_type": "code",
   "execution_count": 1,
   "metadata": {},
   "outputs": [],
   "source": [
    "import pymysql\n",
    "import pandas as pd\n",
    "import matplotlib.pyplot as plt\n",
    "from pylab import rcParams\n",
    "from matplotlib.dates import date2num\n",
    "import matplotlib.dates as mdates\n",
    "import matplotlib.ticker as mticker\n",
    "import numpy as np\n",
    "\n",
    "%matplotlib inline"
   ]
  },
  {
   "cell_type": "markdown",
   "metadata": {},
   "source": [
    "### 1.2. Connect to MySQL database reconai"
   ]
  },
  {
   "cell_type": "code",
   "execution_count": 2,
   "metadata": {},
   "outputs": [
    {
     "name": "stdout",
     "output_type": "stream",
     "text": [
      "<pymysql.connections.Connection object at 0x0000022035E65940>\n"
     ]
    }
   ],
   "source": [
    "mydb = pymysql.connect(host='localhost',\n",
    "                             user='root',\n",
    "                             password='peacebro',database='reconai')\n",
    "print(mydb)"
   ]
  },
  {
   "cell_type": "markdown",
   "metadata": {},
   "source": [
    "### 1.3. Read data from database"
   ]
  },
  {
   "cell_type": "code",
   "execution_count": 3,
   "metadata": {},
   "outputs": [],
   "source": [
    "sql_merged_sales='SELECT * FROM `merged_sales`;'\n",
    "sql_plandata='SELECT * FROM `plandata`'"
   ]
  },
  {
   "cell_type": "code",
   "execution_count": 4,
   "metadata": {},
   "outputs": [],
   "source": [
    "df_merged = pd.read_sql(sql_merged_sales, mydb)\n",
    "df_plandata = pd.read_sql(sql_plandata, mydb)"
   ]
  },
  {
   "cell_type": "markdown",
   "metadata": {},
   "source": [
    "### 1.4. Convert Sales column to float"
   ]
  },
  {
   "cell_type": "code",
   "execution_count": 5,
   "metadata": {},
   "outputs": [],
   "source": [
    "def sales_product(df):\n",
    "    df['date'] = pd.to_datetime(df.assign(day=1, month=1)[['Year', 'month', 'day']])+pd.to_timedelta(df.Week*7, unit='days')\n",
    "    df['Sales'] = df['Sales'].str.replace(',', '')\n",
    "    df['Sales'] = df['Sales'].astype(float)   \n",
    "sales_product(df_merged)\n",
    "sales_product(df_plandata)"
   ]
  },
  {
   "cell_type": "markdown",
   "metadata": {},
   "source": [
    "## 2. Graphs/Charts\n",
    "### 2.1. Line graph for Total Sales\n",
    "#### 2.1.1. Calculate Total Sales of PlanVsActual"
   ]
  },
  {
   "cell_type": "code",
   "execution_count": 6,
   "metadata": {},
   "outputs": [
    {
     "name": "stdout",
     "output_type": "stream",
     "text": [
      "          date  Total Sales\n",
      "0   2017-01-08  12267449.90\n",
      "26  2017-01-15  12177502.05\n",
      "52  2017-01-22  12163691.14\n",
      "78  2017-01-29  12153865.33\n",
      "104 2017-02-05  12227039.30\n",
      "          date  Total Sales\n",
      "0   2017-01-08  12145990.00\n",
      "26  2017-01-15  12131153.67\n",
      "52  2017-01-22  12219820.75\n",
      "78  2017-01-29  12250627.52\n",
      "104 2017-02-05  12342986.14\n"
     ]
    }
   ],
   "source": [
    "def week_sum(df):\n",
    "    newdf = pd.DataFrame(df,columns=['date'])\n",
    "    def sum_scores(d):\n",
    "        return df[(df['date']==d)][['Sales']].sum()\n",
    "\n",
    "    newdf[['Total Sales']] = newdf['date'].transform(sum_scores)\n",
    "    newdf.drop_duplicates(subset =\"date\", \n",
    "                     keep = \"first\", inplace = True) \n",
    "    return newdf\n",
    "df_merged_total=week_sum(df_merged)\n",
    "df_plandata_total=week_sum(df_plandata)\n",
    "print(df_merged_total.head())\n",
    "print(df_plandata_total.head())"
   ]
  },
  {
   "cell_type": "markdown",
   "metadata": {},
   "source": [
    "#### 2.1.2. Display Total Sales Line graph"
   ]
  },
  {
   "cell_type": "code",
   "execution_count": 7,
   "metadata": {},
   "outputs": [
    {
     "data": {
      "image/png": "[encoded data removed]",
      "text/plain": [
       "<Figure size 432x288 with 1 Axes>"
      ]
     },
     "metadata": {},
     "output_type": "display_data"
    }
   ],
   "source": [
    "ax=plt.gca()\n",
    "rcParams['figure.figsize'] = 10, 4\n",
    "xfmt = mdates.DateFormatter('%Y-%m-%d')\n",
    "ax.xaxis.set_major_formatter(xfmt)\n",
    "plt.xticks( rotation=25 )\n",
    "ax=plt.gca()\n",
    "ax.xaxis_date()\n",
    "ax.yaxis.set_major_formatter(mticker.ScalarFormatter())\n",
    "ax.yaxis.get_major_formatter().set_scientific(False)\n",
    "plt.plot(df_merged_total['date'],df_merged_total['Total Sales'],label='Actual')\n",
    "plt.plot(df_plandata_total['date'],df_plandata_total['Total Sales'],label='Plan')\n",
    "ax.legend()\n",
    "#plt.legend(\"Actual\",\"Plan\")\n",
    "plt.show()"
   ]
  },
  {
   "cell_type": "markdown",
   "metadata": {},
   "source": [
    "### 2.2. Bar chart for Category\n",
    "#### 2.2.1. Calculate Category of PlanVsActual"
   ]
  },
  {
   "cell_type": "code",
   "execution_count": 8,
   "metadata": {},
   "outputs": [],
   "source": [
    "\"\"\"Since only one category is given\"\"\"\n",
    "df_category_actual_total=df_merged\n",
    "df_category_plan_total=df_plandata\n",
    "def category_sum(df):\n",
    "    newdf = pd.DataFrame(df,columns=['Category'])\n",
    "    def sum_scores(d):\n",
    "        return df[(df['Category']==d)][['Sales']].sum()\n",
    "\n",
    "    newdf[['Total Sales']] = newdf['Category'].transform(sum_scores)\n",
    "    newdf.drop_duplicates(subset =\"Category\", \n",
    "                     keep = \"first\", inplace = True) \n",
    "    return newdf\n",
    "df_category_actual_total=category_sum(df_category_actual_total)\n",
    "df_category_plan_total=category_sum(df_category_plan_total)"
   ]
  },
  {
   "cell_type": "markdown",
   "metadata": {},
   "source": [
    "#### 2.2.2. Display Category Bar Chart"
   ]
  },
  {
   "cell_type": "code",
   "execution_count": 9,
   "metadata": {},
   "outputs": [
    {
     "data": {
      "image/png": "[encoded data removed]",
      "text/plain": [
       "<Figure size 720x288 with 1 Axes>"
      ]
     },
     "metadata": {},
     "output_type": "display_data"
    }
   ],
   "source": [
    "fig, ax = plt.subplots()\n",
    "N = 1\n",
    "#'#FF8F2D' is a shade of orange\n",
    "#'#3D8ABE' is a shade of blue\n",
    "width = 0.35\n",
    "ind = np.arange(N)\n",
    "p1=ax.bar(ind,df_category_actual_total['Total Sales'],width=width,color='#3D8ABE')\n",
    "p2=ax.bar(ind+ width,df_category_plan_total['Total Sales'],width=width,color='#FF8F2D')\n",
    "ax.set_xticks(ind + width / 2)\n",
    "ax.set_xticklabels(())\n",
    "ax.set_xlabel(('Widgets'))\n",
    "ax.legend((p1[0], p2[0]),('Actual', 'Plan'),loc=\"best\",bbox_to_anchor=(1,1))\n",
    "ax.yaxis.get_major_formatter().set_scientific(False)\n",
    "ax.autoscale_view()\n",
    "plt.show()"
   ]
  },
  {
   "cell_type": "markdown",
   "metadata": {},
   "source": [
    "### 2.3. Bar chart for CPG Region\n",
    "#### 2.3.1. Calculate Sales in all CPG Regions"
   ]
  },
  {
   "cell_type": "code",
   "execution_count": 10,
   "metadata": {},
   "outputs": [
    {
     "data": {
      "text/html": [
       "<div>\n",
       "<style scoped>\n",
       "    .dataframe tbody tr th:only-of-type {\n",
       "        vertical-align: middle;\n",
       "    }\n",
       "\n",
       "    .dataframe tbody tr th {\n",
       "        vertical-align: top;\n",
       "    }\n",
       "\n",
       "    .dataframe thead th {\n",
       "        text-align: right;\n",
       "    }\n",
       "</style>\n",
       "<table border=\"1\" class=\"dataframe\">\n",
       "  <thead>\n",
       "    <tr style=\"text-align: right;\">\n",
       "      <th></th>\n",
       "      <th>CPG Region</th>\n",
       "      <th>Total Sales</th>\n",
       "    </tr>\n",
       "  </thead>\n",
       "  <tbody>\n",
       "    <tr>\n",
       "      <th>0</th>\n",
       "      <td>North</td>\n",
       "      <td>1.802634e+08</td>\n",
       "    </tr>\n",
       "    <tr>\n",
       "      <th>1</th>\n",
       "      <td>East</td>\n",
       "      <td>2.927895e+08</td>\n",
       "    </tr>\n",
       "    <tr>\n",
       "      <th>2</th>\n",
       "      <td>South</td>\n",
       "      <td>4.018252e+08</td>\n",
       "    </tr>\n",
       "    <tr>\n",
       "      <th>4</th>\n",
       "      <td>West</td>\n",
       "      <td>4.802479e+08</td>\n",
       "    </tr>\n",
       "  </tbody>\n",
       "</table>\n",
       "</div>"
      ],
      "text/plain": [
       "  CPG Region   Total Sales\n",
       "0      North  1.802634e+08\n",
       "1       East  2.927895e+08\n",
       "2      South  4.018252e+08\n",
       "4       West  4.802479e+08"
      ]
     },
     "execution_count": 10,
     "metadata": {},
     "output_type": "execute_result"
    }
   ],
   "source": [
    "df_region_actual_total=df_merged\n",
    "df_region_plan_total=df_plandata\n",
    "def region_sum(df):\n",
    "    newdf = pd.DataFrame(df,columns=['CPG Region'])\n",
    "    def sum_scores(d):\n",
    "        return df[(df['CPG Region']==d)][['Sales']].sum()\n",
    "\n",
    "    newdf[['Total Sales']] = newdf['CPG Region'].transform(sum_scores)\n",
    "    newdf.drop_duplicates(subset =\"CPG Region\", \n",
    "                     keep = \"first\", inplace = True) \n",
    "    return newdf\n",
    "df_region_actual_total=region_sum(df_region_actual_total)\n",
    "df_region_plan_total=region_sum(df_region_plan_total)\n",
    "df_region_plan_total.head()"
   ]
  },
  {
   "cell_type": "markdown",
   "metadata": {},
   "source": [
    "#### 2.3.2 Display CPG Region Bar Chart"
   ]
  },
  {
   "cell_type": "code",
   "execution_count": 11,
   "metadata": {},
   "outputs": [
    {
     "data": {
      "image/png": "[encoded data removed]",
      "text/plain": [
       "<Figure size 720x288 with 1 Axes>"
      ]
     },
     "metadata": {},
     "output_type": "display_data"
    }
   ],
   "source": [
    "fig, ax = plt.subplots()\n",
    "N = 4\n",
    "width = 0.35\n",
    "ind = np.arange(N)\n",
    "p1=ax.bar(ind,df_region_actual_total['Total Sales'],width=width,color='#3D8ABE')\n",
    "p2=ax.bar(ind+ width,df_region_plan_total['Total Sales'],width=width,color='#FF8F2D')\n",
    "ax.set_xticks(ind + width / 2)\n",
    "ax.set_xticklabels(('North','East','South','West'))\n",
    "#ax.set_xlabel(('North','East','South','West'))\n",
    "ax.legend((p1[0], p2[0]),('Actual', 'Plan'),loc=\"best\",bbox_to_anchor=(1,1))\n",
    "ax.yaxis.get_major_formatter().set_scientific(False)\n",
    "ax.autoscale_view()\n",
    "plt.show()"
   ]
  },
  {
   "cell_type": "markdown",
   "metadata": {},
   "source": [
    "### 2.4. Bar chart for Retailer\n",
    "#### 2.4.1. Calculate Sales in each Retailer"
   ]
  },
  {
   "cell_type": "code",
   "execution_count": 12,
   "metadata": {},
   "outputs": [
    {
     "data": {
      "text/html": [
       "<div>\n",
       "<style scoped>\n",
       "    .dataframe tbody tr th:only-of-type {\n",
       "        vertical-align: middle;\n",
       "    }\n",
       "\n",
       "    .dataframe tbody tr th {\n",
       "        vertical-align: top;\n",
       "    }\n",
       "\n",
       "    .dataframe thead th {\n",
       "        text-align: right;\n",
       "    }\n",
       "</style>\n",
       "<table border=\"1\" class=\"dataframe\">\n",
       "  <thead>\n",
       "    <tr style=\"text-align: right;\">\n",
       "      <th></th>\n",
       "      <th>Retailer</th>\n",
       "      <th>Total Sales</th>\n",
       "    </tr>\n",
       "  </thead>\n",
       "  <tbody>\n",
       "    <tr>\n",
       "      <th>0</th>\n",
       "      <td>SuperMart</td>\n",
       "      <td>4.925351e+08</td>\n",
       "    </tr>\n",
       "    <tr>\n",
       "      <th>5</th>\n",
       "      <td>BigCo</td>\n",
       "      <td>4.514045e+08</td>\n",
       "    </tr>\n",
       "    <tr>\n",
       "      <th>9</th>\n",
       "      <td>Rx</td>\n",
       "      <td>4.111862e+08</td>\n",
       "    </tr>\n",
       "  </tbody>\n",
       "</table>\n",
       "</div>"
      ],
      "text/plain": [
       "    Retailer   Total Sales\n",
       "0  SuperMart  4.925351e+08\n",
       "5      BigCo  4.514045e+08\n",
       "9         Rx  4.111862e+08"
      ]
     },
     "execution_count": 12,
     "metadata": {},
     "output_type": "execute_result"
    }
   ],
   "source": [
    "df_retailer_actual_total=df_merged\n",
    "df_retailer_plan_total=df_plandata\n",
    "def retailer_sum(df):\n",
    "    newdf = pd.DataFrame(df,columns=['Retailer'])\n",
    "    def sum_scores(d):\n",
    "        return df[(df['Retailer']==d)][['Sales']].sum()\n",
    "\n",
    "    newdf[['Total Sales']] = newdf['Retailer'].transform(sum_scores)\n",
    "    newdf.drop_duplicates(subset =\"Retailer\", \n",
    "                     keep = \"first\", inplace = True) \n",
    "    return newdf\n",
    "df_retailer_actual_total=retailer_sum(df_retailer_actual_total)\n",
    "df_retailer_plan_total=retailer_sum(df_retailer_plan_total)\n",
    "df_retailer_plan_total.head()"
   ]
  },
  {
   "cell_type": "markdown",
   "metadata": {},
   "source": [
    "#### 2.4.2. Bar Chart for Retailer"
   ]
  },
  {
   "cell_type": "code",
   "execution_count": 13,
   "metadata": {},
   "outputs": [
    {
     "data": {
      "image/png": "[encoded data removed]",
      "text/plain": [
       "<Figure size 720x288 with 1 Axes>"
      ]
     },
     "metadata": {},
     "output_type": "display_data"
    }
   ],
   "source": [
    "fig, ax = plt.subplots()\n",
    "N = 3\n",
    "width = 0.35\n",
    "ind = np.arange(N)\n",
    "p1=ax.bar(ind,df_retailer_actual_total['Total Sales'],width=width,color='#3D8ABE')\n",
    "p2=ax.bar(ind+ width,df_retailer_plan_total['Total Sales'],width=width,color='#FF8F2D')\n",
    "ax.set_xticks(ind + width / 2)\n",
    "ax.set_xticklabels(('SuperMart','BigCo','Rx'))\n",
    "#ax.set_xlabel(())\n",
    "ax.legend((p1[0], p2[0]),('Actual', 'Plan'),loc=\"best\",bbox_to_anchor=(1,1))\n",
    "ax.yaxis.get_major_formatter().set_scientific(False)\n",
    "ax.autoscale_view()\n",
    "plt.show()"
   ]
  },
  {
   "cell_type": "markdown",
   "metadata": {},
   "source": [
    "### 2.5. Bar chart for Product\n",
    "#### 2.5.1. Calculate Sales of each product"
   ]
  },
  {
   "cell_type": "code",
   "execution_count": 14,
   "metadata": {},
   "outputs": [
    {
     "data": {
      "text/html": [
       "<div>\n",
       "<style scoped>\n",
       "    .dataframe tbody tr th:only-of-type {\n",
       "        vertical-align: middle;\n",
       "    }\n",
       "\n",
       "    .dataframe tbody tr th {\n",
       "        vertical-align: top;\n",
       "    }\n",
       "\n",
       "    .dataframe thead th {\n",
       "        text-align: right;\n",
       "    }\n",
       "</style>\n",
       "<table border=\"1\" class=\"dataframe\">\n",
       "  <thead>\n",
       "    <tr style=\"text-align: right;\">\n",
       "      <th></th>\n",
       "      <th>UPC</th>\n",
       "      <th>Total Sales</th>\n",
       "    </tr>\n",
       "  </thead>\n",
       "  <tbody>\n",
       "    <tr>\n",
       "      <th>0</th>\n",
       "      <td>1234567890</td>\n",
       "      <td>7.836588e+08</td>\n",
       "    </tr>\n",
       "    <tr>\n",
       "      <th>13</th>\n",
       "      <td>1234512345</td>\n",
       "      <td>5.714671e+08</td>\n",
       "    </tr>\n",
       "  </tbody>\n",
       "</table>\n",
       "</div>"
      ],
      "text/plain": [
       "           UPC   Total Sales\n",
       "0   1234567890  7.836588e+08\n",
       "13  1234512345  5.714671e+08"
      ]
     },
     "execution_count": 14,
     "metadata": {},
     "output_type": "execute_result"
    }
   ],
   "source": [
    "df_upc_actual_total=df_merged\n",
    "df_upc_plan_total=df_plandata\n",
    "def upc_sum(df):\n",
    "    newdf = pd.DataFrame(df,columns=['UPC'])\n",
    "    def sum_scores(d):\n",
    "        return df[(df['UPC']==d)][['Sales']].sum()\n",
    "\n",
    "    newdf[['Total Sales']] = newdf['UPC'].transform(sum_scores)\n",
    "    newdf.drop_duplicates(subset =\"UPC\", \n",
    "                     keep = \"first\", inplace = True) \n",
    "    return newdf\n",
    "df_upc_actual_total=upc_sum(df_upc_actual_total)\n",
    "df_upc_plan_total=upc_sum(df_upc_plan_total)\n",
    "df_upc_plan_total.head()"
   ]
  },
  {
   "cell_type": "markdown",
   "metadata": {},
   "source": [
    "#### 2.5.2. Bar Chart for Product"
   ]
  },
  {
   "cell_type": "code",
   "execution_count": 15,
   "metadata": {
    "scrolled": true
   },
   "outputs": [
    {
     "data": {
      "image/png": "[encoded data removed]",
      "text/plain": [
       "<Figure size 720x288 with 1 Axes>"
      ]
     },
     "metadata": {},
     "output_type": "display_data"
    }
   ],
   "source": [
    "fig, ax = plt.subplots()\n",
    "N = 2\n",
    "width = 0.35\n",
    "ind = np.arange(N)\n",
    "p1=ax.bar(ind,df_upc_actual_total['Total Sales'],width=width,color='#3D8ABE')\n",
    "p2=ax.bar(ind+ width,df_upc_plan_total['Total Sales'],width=width,color='#FF8F2D')\n",
    "ax.set_xticks(ind + width / 2)\n",
    "ax.set_xticklabels(('1234567890','1234512345'))\n",
    "#ax.set_xlabel(())\n",
    "ax.legend((p1[0], p2[0]),('Actual', 'Plan'),loc=\"best\",bbox_to_anchor=(1,1))\n",
    "ax.yaxis.get_major_formatter().set_scientific(False)\n",
    "ax.autoscale_view()\n",
    "plt.show()"
   ]
  },
  {
   "cell_type": "code",
   "execution_count": null,
   "metadata": {},
   "outputs": [],
   "source": []
  }
 ],
 "metadata": {
  "kernelspec": {
   "display_name": "Python 3",
   "language": "python",
   "name": "python3"
  },
  "language_info": {
   "codemirror_mode": {
    "name": "ipython",
    "version": 3
   },
   "file_extension": ".py",
   "mimetype": "text/x-python",
   "name": "python",
   "nbconvert_exporter": "python",
   "pygments_lexer": "ipython3",
   "version": "3.6.5"
  }
 },
 "nbformat": 4,
 "nbformat_minor": 2
}

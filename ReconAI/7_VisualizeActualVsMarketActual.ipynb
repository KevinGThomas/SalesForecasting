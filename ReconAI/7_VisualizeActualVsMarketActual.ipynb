{
 "cells": [
  {
   "cell_type": "markdown",
   "metadata": {},
   "source": [
    "# Visualize ActualVsMarketActual\n",
    "\n",
    "## 1. Read data from MySQL\n",
    "### 1.1. Import important packages"
   ]
  },
  {
   "cell_type": "code",
   "execution_count": 15,
   "metadata": {},
   "outputs": [],
   "source": [
    "import pymysql\n",
    "import pandas as pd\n",
    "import matplotlib.pyplot as plt\n",
    "from pylab import rcParams\n",
    "from matplotlib.dates import date2num\n",
    "import matplotlib.dates as mdates\n",
    "import matplotlib.ticker as mticker\n",
    "import numpy as np\n",
    "\n",
    "%matplotlib inline"
   ]
  },
  {
   "cell_type": "markdown",
   "metadata": {},
   "source": [
    "### 1.2. Connect to MySQL database reconai"
   ]
  },
  {
   "cell_type": "code",
   "execution_count": 16,
   "metadata": {},
   "outputs": [
    {
     "name": "stdout",
     "output_type": "stream",
     "text": [
      "<pymysql.connections.Connection object at 0x0000024FE179FE10>\n"
     ]
    }
   ],
   "source": [
    "mydb = pymysql.connect(host='localhost',\n",
    "                             user='root',\n",
    "                             password='peacebro',database='reconai')\n",
    "print(mydb)"
   ]
  },
  {
   "cell_type": "markdown",
   "metadata": {},
   "source": [
    "### 1.3. Read data from database"
   ]
  },
  {
   "cell_type": "code",
   "execution_count": 17,
   "metadata": {},
   "outputs": [],
   "source": [
    "sql_merged_sales='SELECT * FROM `merged_sales`;'\n",
    "sql_merged_market_sales='SELECT * FROM `merged_market_sales`'"
   ]
  },
  {
   "cell_type": "code",
   "execution_count": 18,
   "metadata": {},
   "outputs": [],
   "source": [
    "df_merged = pd.read_sql(sql_merged_sales, mydb)\n",
    "df_market_merged = pd.read_sql(sql_merged_market_sales, mydb)"
   ]
  },
  {
   "cell_type": "markdown",
   "metadata": {},
   "source": [
    "### 1.4. Convert Sales column to float"
   ]
  },
  {
   "cell_type": "code",
   "execution_count": 19,
   "metadata": {},
   "outputs": [],
   "source": [
    "def sales_product(df):\n",
    "    df['date'] = pd.to_datetime(df.assign(day=1, month=1)[['Year', 'month', 'day']])+pd.to_timedelta(df.Week*7, unit='days')\n",
    "    df['Sales'] = df['Sales'].str.replace(',', '')\n",
    "    df['Sales'] = df['Sales'].astype(float)   \n",
    "sales_product(df_merged)\n",
    "sales_product(df_market_merged)"
   ]
  },
  {
   "cell_type": "markdown",
   "metadata": {},
   "source": [
    "## 2. Graphs/Charts\n",
    "### 2.1. Line graph for Total Sales\n",
    "#### 2.1.1. Calculate Total Sales of PlanVsActual"
   ]
  },
  {
   "cell_type": "code",
   "execution_count": 20,
   "metadata": {},
   "outputs": [
    {
     "name": "stdout",
     "output_type": "stream",
     "text": [
      "          date  Total Sales\n",
      "0   2017-01-08  12267449.90\n",
      "26  2017-01-15  12177502.05\n",
      "52  2017-01-22  12163691.14\n",
      "78  2017-01-29  12153865.33\n",
      "104 2017-02-05  12227039.30\n",
      "          date  Total Sales\n",
      "0   2017-01-08  44004000.00\n",
      "25  2017-01-15  44163236.10\n",
      "50  2017-01-22  43798519.59\n",
      "75  2017-01-29  44158814.74\n",
      "100 2017-02-05  43832098.45\n"
     ]
    }
   ],
   "source": [
    "def week_sum(df):\n",
    "    newdf = pd.DataFrame(df,columns=['date'])\n",
    "    def sum_scores(d):\n",
    "        return df[(df['date']==d)][['Sales']].sum()\n",
    "\n",
    "    newdf[['Total Sales']] = newdf['date'].transform(sum_scores)\n",
    "    newdf.drop_duplicates(subset =\"date\", \n",
    "                     keep = \"first\", inplace = True) \n",
    "    return newdf\n",
    "df_merged_total=week_sum(df_merged)\n",
    "df_market_merged_total=week_sum(df_market_merged)\n",
    "print(df_merged_total.head())\n",
    "print(df_market_merged_total.head())"
   ]
  },
  {
   "cell_type": "markdown",
   "metadata": {},
   "source": [
    "#### 2.1.2. Display Total Sales Line graph"
   ]
  },
  {
   "cell_type": "code",
   "execution_count": 21,
   "metadata": {},
   "outputs": [
    {
     "data": {
      "image/png": "[encoded data removed]",
      "text/plain": [
       "<Figure size 432x288 with 1 Axes>"
      ]
     },
     "metadata": {},
     "output_type": "display_data"
    }
   ],
   "source": [
    "ax=plt.gca()\n",
    "rcParams['figure.figsize'] = 10, 4\n",
    "xfmt = mdates.DateFormatter('%Y-%m-%d')\n",
    "ax.xaxis.set_major_formatter(xfmt)\n",
    "plt.xticks( rotation=25 )\n",
    "ax=plt.gca()\n",
    "ax.xaxis_date()\n",
    "ax.yaxis.set_major_formatter(mticker.ScalarFormatter())\n",
    "ax.yaxis.get_major_formatter().set_scientific(False)\n",
    "plt.plot(df_merged_total['date'],df_merged_total['Total Sales'],label='Actual')\n",
    "plt.plot(df_market_merged_total['date'],df_market_merged_total['Total Sales'],label='MarketActual')\n",
    "ax.legend()\n",
    "#plt.legend(\"Actual\",\"Plan\")\n",
    "plt.show()"
   ]
  },
  {
   "cell_type": "markdown",
   "metadata": {},
   "source": [
    "### 2.2. Pie chart for Category\n",
    "#### 2.2.1. Calculate Category of PlanVsActual"
   ]
  },
  {
   "cell_type": "code",
   "execution_count": 22,
   "metadata": {},
   "outputs": [
    {
     "name": "stdout",
     "output_type": "stream",
     "text": [
      "  Category   Total Sales\n",
      "0  Widgets  1.220182e+09   Category   Total Sales\n",
      "0  Widgets  4.865448e+09\n"
     ]
    }
   ],
   "source": [
    "\"\"\"Since only one category is given\"\"\"\n",
    "df_category_actual_total=df_merged\n",
    "df_category_actualmarket_total=df_market_merged\n",
    "def category_sum(df):\n",
    "    newdf = pd.DataFrame(df,columns=['Category'])\n",
    "    def sum_scores(d):\n",
    "        return df[(df['Category']==d)][['Sales']].sum()\n",
    "\n",
    "    newdf[['Total Sales']] = newdf['Category'].transform(sum_scores)\n",
    "    newdf.drop_duplicates(subset =\"Category\", \n",
    "                     keep = \"first\", inplace = True) \n",
    "    return newdf\n",
    "df_category_actual_total=category_sum(df_category_actual_total)\n",
    "df_category_actualmarket_total=category_sum(df_category_actualmarket_total)\n",
    "print(df_category_actual_total,df_category_actualmarket_total)"
   ]
  },
  {
   "cell_type": "markdown",
   "metadata": {},
   "source": [
    "#### 2.2.2. Display Category Pie Chart"
   ]
  },
  {
   "cell_type": "code",
   "execution_count": 23,
   "metadata": {},
   "outputs": [
    {
     "data": {
      "image/png": "[encoded data removed]",
      "text/plain": [
       "<Figure size 360x360 with 1 Axes>"
      ]
     },
     "metadata": {},
     "output_type": "display_data"
    }
   ],
   "source": [
    "##colors=blue,orange\n",
    "rcParams['figure.figsize'] = 5,5\n",
    "plt.pie(x=[df_category_actual_total['Total Sales'],df_category_actualmarket_total['Total Sales']],\n",
    "        colors=['#3D8ABE','#FF8F2D'], autopct='%.1f%%',labels=['Retailer Actual','Market Actual']\n",
    "       ,startangle=90)\n",
    "plt.show()"
   ]
  },
  {
   "cell_type": "markdown",
   "metadata": {},
   "source": [
    "### 2.3. Pie chart for CPG Region\n",
    "#### 2.3.1. Calculate Sales in all CPG Regions"
   ]
  },
  {
   "cell_type": "code",
   "execution_count": 24,
   "metadata": {},
   "outputs": [
    {
     "name": "stdout",
     "output_type": "stream",
     "text": [
      "  CPG Region   Total Sales\n",
      "0      North  1.339735e+09\n",
      "1       East  8.522130e+08\n",
      "2      South  9.653959e+08\n",
      "4       West  1.708105e+09\n",
      "  CPG Region   Total Sales\n",
      "0      North  1.636065e+08\n",
      "1       East  2.679695e+08\n",
      "2      South  3.929235e+08\n",
      "4       West  3.956830e+08\n"
     ]
    }
   ],
   "source": [
    "df_region_actual_total=df_merged\n",
    "df_region_marketactual_total=df_market_merged\n",
    "def region_sum(df):\n",
    "    newdf = pd.DataFrame(df,columns=['CPG Region'])\n",
    "    def sum_scores(d):\n",
    "        return df[(df['CPG Region']==d)][['Sales']].sum()\n",
    "\n",
    "    newdf[['Total Sales']] = newdf['CPG Region'].transform(sum_scores)\n",
    "    newdf.drop_duplicates(subset =\"CPG Region\", \n",
    "                     keep = \"first\", inplace = True) \n",
    "    return newdf\n",
    "df_region_actual_total=region_sum(df_region_actual_total)\n",
    "df_region_marketactual_total=region_sum(df_region_marketactual_total)\n",
    "print(df_region_marketactual_total.head())\n",
    "print(df_region_actual_total.head())\n"
   ]
  },
  {
   "cell_type": "markdown",
   "metadata": {},
   "source": [
    "#### 2.3.2 Display CPG Region Pie Chart"
   ]
  },
  {
   "cell_type": "code",
   "execution_count": 25,
   "metadata": {},
   "outputs": [
    {
     "data": {
      "text/plain": [
       "([<matplotlib.patches.Wedge at 0x24fe14f1a90>,\n",
       "  <matplotlib.patches.Wedge at 0x24fe1036e48>,\n",
       "  <matplotlib.patches.Wedge at 0x24fe14f1240>,\n",
       "  <matplotlib.patches.Wedge at 0x24fe1419080>,\n",
       "  <matplotlib.patches.Wedge at 0x24fe14387f0>,\n",
       "  <matplotlib.patches.Wedge at 0x24fe13c07b8>,\n",
       "  <matplotlib.patches.Wedge at 0x24fe1927160>,\n",
       "  <matplotlib.patches.Wedge at 0x24fe141bc88>],\n",
       " [Text(-0.0927943,1.09608,'Retailer North'),\n",
       "  Text(-0.834007,0.717239,'Market North'),\n",
       "  Text(-1.09213,-0.131335,'Retailer East'),\n",
       "  Text(-0.842774,-0.706917,'Market East'),\n",
       "  Text(-0.250843,-1.07102,'Retailer South'),\n",
       "  Text(0.499296,-0.980155,'Market South'),\n",
       "  Text(1.01444,-0.425341,'Retailer West'),\n",
       "  Text(0.849057,0.699358,'Market West')],\n",
       " [Text(-0.0506151,0.597861,'2.7%'),\n",
       "  Text(-0.454913,0.391221,'22.0%'),\n",
       "  Text(-0.595708,-0.0716374,'4.4%'),\n",
       "  Text(-0.459695,-0.385591,'14.0%'),\n",
       "  Text(-0.136824,-0.584191,'6.5%'),\n",
       "  Text(0.272343,-0.53463,'15.9%'),\n",
       "  Text(0.55333,-0.232004,'6.5%'),\n",
       "  Text(0.463122,0.381468,'28.1%')])"
      ]
     },
     "execution_count": 25,
     "metadata": {},
     "output_type": "execute_result"
    },
    {
     "data": {
      "image/png": "[encoded data removed]",
      "text/plain": [
       "<Figure size 360x360 with 1 Axes>"
      ]
     },
     "metadata": {},
     "output_type": "display_data"
    }
   ],
   "source": [
    "rcParams['figure.figsize'] = 5,5\n",
    "df_north_region=df_region_actual_total.loc[df_region_actual_total['CPG Region']=='North']\n",
    "df_east_region=df_region_actual_total.loc[df_region_actual_total['CPG Region']=='East']\n",
    "df_south_region=df_region_actual_total.loc[df_region_actual_total['CPG Region']=='South']\n",
    "df_west_region=df_region_actual_total.loc[df_region_actual_total['CPG Region']=='West']\n",
    "df_north_marketregion=df_region_marketactual_total.loc[df_region_actual_total['CPG Region']=='North']\n",
    "df_east_marketregion=df_region_marketactual_total.loc[df_region_actual_total['CPG Region']=='East']\n",
    "df_south_marketregion=df_region_marketactual_total.loc[df_region_actual_total['CPG Region']=='South']\n",
    "df_west_marketregion=df_region_marketactual_total.loc[df_region_actual_total['CPG Region']=='West']\n",
    "\n",
    "df_east_region.reset_index(inplace=True)\n",
    "df_south_region.reset_index(inplace=True)\n",
    "df_west_region.reset_index(inplace=True)\n",
    "df_east_marketregion.reset_index(inplace=True)\n",
    "df_south_marketregion.reset_index(inplace=True)\n",
    "df_west_marketregion.reset_index(inplace=True)\n",
    "\n",
    "plt.pie(x=[df_north_region['Total Sales'],df_north_marketregion['Total Sales'],df_east_region['Total Sales']\n",
    "          ,df_east_marketregion['Total Sales'],df_south_region['Total Sales'],df_south_marketregion['Total Sales']\n",
    "          ,df_west_region['Total Sales'],df_west_marketregion['Total Sales']],\n",
    "        labels=['Retailer North','Market North',\n",
    "               'Retailer East','Market East',\n",
    "               'Retailer South','Market South',\n",
    "               'Retailer West','Market West'],\n",
    "       colors=['#3D8ABE','#FF8F2D'],autopct='%.1f%%',startangle=90)"
   ]
  },
  {
   "cell_type": "markdown",
   "metadata": {},
   "source": [
    "### 2.4. Pie chart for Retailer\n",
    "#### 2.4.1. Calculate Sales in each Retailer"
   ]
  },
  {
   "cell_type": "code",
   "execution_count": 26,
   "metadata": {},
   "outputs": [
    {
     "data": {
      "text/html": [
       "<div>\n",
       "<style scoped>\n",
       "    .dataframe tbody tr th:only-of-type {\n",
       "        vertical-align: middle;\n",
       "    }\n",
       "\n",
       "    .dataframe tbody tr th {\n",
       "        vertical-align: top;\n",
       "    }\n",
       "\n",
       "    .dataframe thead th {\n",
       "        text-align: right;\n",
       "    }\n",
       "</style>\n",
       "<table border=\"1\" class=\"dataframe\">\n",
       "  <thead>\n",
       "    <tr style=\"text-align: right;\">\n",
       "      <th></th>\n",
       "      <th>index</th>\n",
       "      <th>Retailer</th>\n",
       "      <th>Total Sales</th>\n",
       "    </tr>\n",
       "  </thead>\n",
       "  <tbody>\n",
       "    <tr>\n",
       "      <th>0</th>\n",
       "      <td>0</td>\n",
       "      <td>SuperMart</td>\n",
       "      <td>1.851429e+09</td>\n",
       "    </tr>\n",
       "    <tr>\n",
       "      <th>1</th>\n",
       "      <td>9</td>\n",
       "      <td>BigCo</td>\n",
       "      <td>2.449486e+09</td>\n",
       "    </tr>\n",
       "    <tr>\n",
       "      <th>2</th>\n",
       "      <td>17</td>\n",
       "      <td>Rx</td>\n",
       "      <td>5.645331e+08</td>\n",
       "    </tr>\n",
       "  </tbody>\n",
       "</table>\n",
       "</div>"
      ],
      "text/plain": [
       "   index   Retailer   Total Sales\n",
       "0      0  SuperMart  1.851429e+09\n",
       "1      9      BigCo  2.449486e+09\n",
       "2     17         Rx  5.645331e+08"
      ]
     },
     "execution_count": 26,
     "metadata": {},
     "output_type": "execute_result"
    }
   ],
   "source": [
    "df_retailer_actual_total=df_merged\n",
    "df_retailer_marketactual_total=df_market_merged\n",
    "def retailer_sum(df):\n",
    "    newdf = pd.DataFrame(df,columns=['Retailer'])\n",
    "    def sum_scores(d):\n",
    "        return df[(df['Retailer']==d)][['Sales']].sum()\n",
    "\n",
    "    newdf[['Total Sales']] = newdf['Retailer'].transform(sum_scores)\n",
    "    newdf.drop_duplicates(subset =\"Retailer\", \n",
    "                     keep = \"first\", inplace = True) \n",
    "    return newdf\n",
    "df_retailer_actual_total=retailer_sum(df_retailer_actual_total)\n",
    "df_retailer_marketactual_total=retailer_sum(df_retailer_marketactual_total)\n",
    "df_retailer_actual_total.reset_index(inplace=True)\n",
    "df_retailer_marketactual_total.reset_index(inplace=True)\n",
    "df_retailer_marketactual_total.head()"
   ]
  },
  {
   "cell_type": "markdown",
   "metadata": {},
   "source": [
    "#### 2.4.2. Display Retailer Pie Chart"
   ]
  },
  {
   "cell_type": "code",
   "execution_count": 27,
   "metadata": {},
   "outputs": [
    {
     "data": {
      "image/png": "[encoded data removed]",
      "text/plain": [
       "<Figure size 360x360 with 1 Axes>"
      ]
     },
     "metadata": {},
     "output_type": "display_data"
    }
   ],
   "source": [
    "df_sm_retailer=df_retailer_actual_total.loc[df_retailer_actual_total['Retailer']=='SuperMart']\n",
    "df_bc_retailer=df_retailer_actual_total.loc[df_retailer_actual_total['Retailer']=='BigCo']\n",
    "df_rx_retailer=df_retailer_actual_total.loc[df_retailer_actual_total['Retailer']=='Rx']\n",
    "df_sm_marketretailer=df_retailer_marketactual_total.loc[df_retailer_actual_total['Retailer']=='SuperMart']\n",
    "df_bc_marketretailer=df_retailer_marketactual_total.loc[df_retailer_actual_total['Retailer']=='BigCo']\n",
    "df_rx_marketretailer=df_retailer_marketactual_total.loc[df_retailer_actual_total['Retailer']=='Rx']\n",
    "\n",
    "df_bc_retailer.reset_index(inplace=True)\n",
    "df_rx_retailer.reset_index(inplace=True)\n",
    "df_bc_marketretailer.reset_index(inplace=True)\n",
    "df_rx_marketretailer.reset_index(inplace=True)\n",
    "\n",
    "plt.pie(x=[df_sm_retailer['Total Sales'],df_sm_marketretailer['Total Sales'],df_bc_retailer['Total Sales']\n",
    "          ,df_bc_marketretailer['Total Sales'],df_rx_retailer['Total Sales'],df_rx_marketretailer['Total Sales']],\n",
    "        labels=['Retailer SuperMart','Market SuperMart',\n",
    "               'Retailer BigCo','Market BigCo',\n",
    "               'Retailer Rx','Market Rx'],\n",
    "       colors=['#3D8ABE','#FF8F2D'],autopct='%.1f%%',startangle=90)\n",
    "\n",
    "plt.show()"
   ]
  },
  {
   "cell_type": "code",
   "execution_count": null,
   "metadata": {},
   "outputs": [],
   "source": []
  }
 ],
 "metadata": {
  "kernelspec": {
   "display_name": "Python 3",
   "language": "python",
   "name": "python3"
  },
  "language_info": {
   "codemirror_mode": {
    "name": "ipython",
    "version": 3
   },
   "file_extension": ".py",
   "mimetype": "text/x-python",
   "name": "python",
   "nbconvert_exporter": "python",
   "pygments_lexer": "ipython3",
   "version": "3.6.5"
  }
 },
 "nbformat": 4,
 "nbformat_minor": 2
}
